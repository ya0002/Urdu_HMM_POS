{
 "cells": [
  {
   "cell_type": "code",
   "execution_count": 1,
   "metadata": {
    "execution": {
     "iopub.execute_input": "2025-06-09T22:26:12.406904Z",
     "iopub.status.busy": "2025-06-09T22:26:12.406582Z",
     "iopub.status.idle": "2025-06-09T22:26:13.509376Z",
     "shell.execute_reply": "2025-06-09T22:26:13.508312Z",
     "shell.execute_reply.started": "2025-06-09T22:26:12.406876Z"
    },
    "id": "dLEs7-LjE6mu",
    "trusted": true
   },
   "outputs": [],
   "source": [
    "import pandas as pd\n",
    "import numpy as np\n",
    "\n",
    "import os"
   ]
  },
  {
   "cell_type": "code",
   "execution_count": 2,
   "metadata": {
    "execution": {
     "iopub.execute_input": "2025-06-17T20:58:54.643945Z",
     "iopub.status.busy": "2025-06-17T20:58:54.643337Z",
     "iopub.status.idle": "2025-06-17T20:58:54.647780Z",
     "shell.execute_reply": "2025-06-17T20:58:54.647030Z",
     "shell.execute_reply.started": "2025-06-17T20:58:54.643922Z"
    },
    "trusted": true
   },
   "outputs": [],
   "source": [
    "from tqdm import tqdm"
   ]
  },
  {
   "cell_type": "code",
   "execution_count": null,
   "metadata": {
    "trusted": true
   },
   "outputs": [],
   "source": [
    "# Use a pipeline as a high-level helper\n",
    "from transformers import pipeline\n",
    "\n",
    "\n",
    "\n",
    "pipe = pipeline(\"translation\", model=\"facebook/nllb-200-distilled-600M\")\n",
    "# pipe(\"ارے بھائی، آپ کیسے ہیں؟\",src_lang=\"urd_Arab\",tgt_lang=\"eng_Latn\")[0].get('translation_text')"
   ]
  },
  {
   "cell_type": "markdown",
   "metadata": {
    "id": "-vpV_UhacpNO"
   },
   "source": [
    "# Dataset"
   ]
  },
  {
   "cell_type": "markdown",
   "metadata": {
    "id": "BTR1Prv-igdQ"
   },
   "source": [
    "# Urdu Monolingual Corpus\n",
    "\n",
    "https://lindat.mff.cuni.cz/repository/xmlui/handle/11858/00-097C-0000-0023-65A9-5#"
   ]
  },
  {
   "cell_type": "code",
   "execution_count": 3,
   "metadata": {
    "execution": {
     "iopub.execute_input": "2025-06-17T20:43:06.437828Z",
     "iopub.status.busy": "2025-06-17T20:43:06.437490Z",
     "iopub.status.idle": "2025-06-17T20:43:32.449862Z",
     "shell.execute_reply": "2025-06-17T20:43:32.448910Z",
     "shell.execute_reply.started": "2025-06-17T20:43:06.437808Z"
    },
    "id": "XgKSUZcGiwjO",
    "outputId": "5e35603f-b0b5-4d72-8c37-cf4b232fba94",
    "trusted": true
   },
   "outputs": [
    {
     "name": "stderr",
     "output_type": "stream",
     "text": [
      "  % Total    % Received % Xferd  Average Speed   Time    Time     Time  Current\n",
      "                                 Dload  Upload   Total   Spent    Left  Speed\n",
      "\n",
      "  0     0    0     0    0     0      0      0 --:--:-- --:--:-- --:--:--     0\n",
      "  0     0    0     0    0     0      0      0 --:--:--  0:00:01 --:--:--     0\n",
      "  0  253M    0 1391k    0     0   697k      0  0:06:12  0:00:01  0:06:11  698k\n",
      "  1  253M    1 4207k    0     0  1404k      0  0:03:05  0:00:02  0:03:03 1404k\n",
      "  2  253M    2 7151k    0     0  1789k      0  0:02:25  0:00:03  0:02:22 1790k\n",
      "  3  253M    3  9.8M    0     0  2027k      0  0:02:08  0:00:04  0:02:04 2028k\n",
      "  5  253M    5 12.7M    0     0  2092k      0  0:02:04  0:00:06  0:01:58 2575k\n",
      "  5  253M    5 13.3M    0     0  1955k      0  0:02:12  0:00:06  0:02:06 2457k\n",
      "  5  253M    5 13.5M    0     0  1726k      0  0:02:30  0:00:08  0:02:22 1918k\n",
      "  6  253M    6 15.4M    0     0  1755k      0  0:02:28  0:00:08  0:02:20 1728k\n",
      "  7  253M    7 18.1M    0     0  1856k      0  0:02:19  0:00:09  0:02:10 1686k\n",
      "  8  253M    8 21.0M    0     0  1956k      0  0:02:12  0:00:10  0:02:02 1777k\n",
      "  9  253M    9 24.9M    0     0  2128k      0  0:02:02  0:00:12  0:01:50 2371k\n",
      " 11  253M   11 28.8M    0     0  2267k      0  0:01:54  0:00:13  0:01:41 3140k\n",
      " 12  253M   12 32.0M    0     0  2343k      0  0:01:50  0:00:13  0:01:37 3401k\n",
      " 13  253M   13 35.2M    0     0  2405k      0  0:01:48  0:00:14  0:01:34 3503k\n",
      " 14  253M   14 37.3M    0     0  2390k      0  0:01:48  0:00:16  0:01:32 3342k\n",
      " 15  253M   15 39.2M    0     0  2362k      0  0:01:50  0:00:16  0:01:34 2923k\n",
      " 15  253M   15 40.5M    0     0  2307k      0  0:01:52  0:00:18  0:01:34 2412k\n",
      " 16  253M   16 41.3M    0     0  2226k      0  0:01:56  0:00:19  0:01:37 1901k\n",
      " 16  253M   16 41.8M    0     0  2142k      0  0:02:01  0:00:20  0:01:41 1351k\n",
      " 16  253M   16 42.2M    0     0  2060k      0  0:02:06  0:00:20  0:01:46 1003k\n",
      " 16  253M   16 42.6M    0     0  1977k      0  0:02:11  0:00:22  0:01:49  688k\n",
      " 16  253M   16 43.0M    0     0  1915k      0  0:02:15  0:00:23  0:01:52  504k\n",
      " 17  253M   17 43.6M    0     0  1861k      0  0:02:19  0:00:23  0:01:56  471k\n",
      " 17  253M   17 44.2M    0     0  1809k      0  0:02:23  0:00:25  0:01:58  483k\n",
      " 17  253M   17 45.3M    0     0  1786k      0  0:02:25  0:00:25  0:02:00  633k\n",
      " 18  253M   18 45.7M    0     0  1731k      0  0:02:30  0:00:27  0:02:03  644k\n",
      " 18  253M   18 46.0M    0     0  1682k      0  0:02:34  0:00:28  0:02:06  610k\n",
      " 18  253M   18 46.5M    0     0  1643k      0  0:02:38  0:00:28  0:02:10  595k\n",
      " 18  253M   18 47.3M    0     0  1616k      0  0:02:40  0:00:29  0:02:11  644k\n",
      " 19  253M   19 48.7M    0     0  1610k      0  0:02:41  0:00:30  0:02:11  694k\n",
      " 20  253M   20 50.7M    0     0  1625k      0  0:02:39  0:00:31  0:02:08 1044k\n",
      " 21  253M   21 53.3M    0     0  1656k      0  0:02:36  0:00:32  0:02:04 1508k\n",
      " 22  253M   22 57.3M    0     0  1727k      0  0:02:30  0:00:33  0:01:57 2216k\n",
      " 23  253M   23 59.5M    0     0  1741k      0  0:02:29  0:00:34  0:01:55 2491k\n",
      " 25  253M   25 64.3M    0     0  1829k      0  0:02:22  0:00:35  0:01:47 3189k\n",
      " 27  253M   27 68.7M    0     0  1901k      0  0:02:16  0:00:36  0:01:40 3665k\n",
      " 28  253M   28 71.2M    0     0  1918k      0  0:02:15  0:00:38  0:01:37 3642k\n",
      " 29  253M   29 74.8M    0     0  1965k      0  0:02:12  0:00:39  0:01:33 3580k\n",
      " 30  253M   30 78.2M    0     0  2004k      0  0:02:09  0:00:39  0:01:30 3849k\n",
      " 32  253M   32 81.4M    0     0  2033k      0  0:02:07  0:00:40  0:01:27 3505k\n",
      " 33  253M   33 85.4M    0     0  2083k      0  0:02:04  0:00:41  0:01:23 3431k\n",
      " 35  253M   35 89.4M    0     0  2130k      0  0:02:02  0:00:43  0:01:19 3739k\n",
      " 37  253M   37 94.1M    0     0  2190k      0  0:01:58  0:00:43  0:01:15 3950k\n",
      " 37  253M   37 96.0M    0     0  2185k      0  0:01:58  0:00:44  0:01:14 3631k\n",
      " 39  253M   39 99.8M    0     0  2223k      0  0:01:56  0:00:45  0:01:11 3776k\n",
      " 41  253M   41  104M    0     0  2279k      0  0:01:54  0:00:46  0:01:08 3920k\n",
      " 42  253M   42  108M    0     0  2308k      0  0:01:52  0:00:47  0:01:05 3848k\n",
      " 43  253M   43  110M    0     0  2312k      0  0:01:52  0:00:48  0:01:04 3381k\n",
      " 44  253M   44  113M    0     0  2329k      0  0:01:51  0:00:49  0:01:02 3626k\n",
      " 45  253M   45  116M    0     0  2331k      0  0:01:51  0:00:51  0:01:00 3324k\n",
      " 46  253M   46  118M    0     0  2328k      0  0:01:51  0:00:51  0:01:00 2794k\n",
      " 47  253M   47  120M    0     0  2323k      0  0:01:51  0:00:53  0:00:58 2462k\n",
      " 47  253M   47  121M    0     0  2307k      0  0:01:52  0:00:54  0:00:58 2263k\n",
      " 48  253M   48  122M    0     0  2272k      0  0:01:54  0:00:55  0:00:59 1711k\n",
      " 48  253M   48  122M    0     0  2244k      0  0:01:55  0:00:56  0:00:59 1350k\n",
      " 48  253M   48  123M    0     0  2217k      0  0:01:57  0:00:57  0:01:00 1070k\n",
      " 48  253M   48  124M    0     0  2190k      0  0:01:58  0:00:57  0:01:01  775k\n",
      " 49  253M   49  124M    0     0  2162k      0  0:02:00  0:00:59  0:01:01  585k\n",
      " 49  253M   49  125M    0     0  2136k      0  0:02:01  0:01:00  0:01:01  613k\n",
      " 49  253M   49  125M    0     0  2110k      0  0:02:03  0:01:01  0:01:02  625k\n",
      " 49  253M   49  126M    0     0  2089k      0  0:02:04  0:01:02  0:01:02  623k\n",
      " 50  253M   50  127M    0     0  2068k      0  0:02:05  0:01:02  0:01:03  659k\n",
      " 50  253M   50  128M    0     0  2049k      0  0:02:06  0:01:03  0:01:03  708k\n",
      " 50  253M   50  128M    0     0  2029k      0  0:02:08  0:01:05  0:01:03  748k\n",
      " 51  253M   51  129M    0     0  2013k      0  0:02:09  0:01:06  0:01:03  823k\n",
      " 51  253M   51  130M    0     0  2001k      0  0:02:09  0:01:06  0:01:03  898k\n",
      " 52  253M   52  132M    0     0  1992k      0  0:02:10  0:01:07  0:01:03 1033k\n",
      " 52  253M   52  133M    0     0  1979k      0  0:02:11  0:01:08  0:01:03 1087k\n",
      " 52  253M   52  134M    0     0  1966k      0  0:02:12  0:01:10  0:01:02 1147k\n",
      " 53  253M   53  135M    0     0  1958k      0  0:02:12  0:01:10  0:01:02 1221k\n",
      " 54  253M   54  137M    0     0  1958k      0  0:02:12  0:01:11  0:01:01 1385k\n",
      " 55  253M   55  140M    0     0  1968k      0  0:02:12  0:01:13  0:00:59 1646k\n",
      " 56  253M   56  143M    0     0  1989k      0  0:02:10  0:01:14  0:00:56 2117k\n",
      " 58  253M   58  147M    0     0  2012k      0  0:02:09  0:01:14  0:00:55 2664k\n",
      " 59  253M   59  150M    0     0  2024k      0  0:02:08  0:01:16  0:00:52 2957k\n",
      " 60  253M   60  152M    0     0  2029k      0  0:02:08  0:01:17  0:00:51 3060k\n",
      " 61  253M   61  156M    0     0  2048k      0  0:02:06  0:01:17  0:00:49 3216k\n",
      " 62  253M   62  158M    0     0  2056k      0  0:02:06  0:01:19  0:00:47 3052k\n",
      " 62  253M   62  159M    0     0  2045k      0  0:02:07  0:01:19  0:00:48 2540k\n",
      " 63  253M   63  161M    0     0  2036k      0  0:02:07  0:01:21  0:00:46 2229k\n",
      " 63  253M   63  162M    0     0  2023k      0  0:02:08  0:01:22  0:00:46 1922k\n",
      " 64  253M   64  163M    0     0  2016k      0  0:02:08  0:01:22  0:00:46 1510k\n",
      " 64  253M   64  164M    0     0  2001k      0  0:02:09  0:01:23  0:00:46 1134k\n",
      " 65  253M   65  165M    0     0  1988k      0  0:02:10  0:01:24  0:00:46 1078k\n",
      " 65  253M   65  165M    0     0  1975k      0  0:02:11  0:01:26  0:00:45  984k\n",
      " 65  253M   65  166M    0     0  1962k      0  0:02:12  0:01:26  0:00:46  954k\n",
      " 66  253M   66  167M    0     0  1949k      0  0:02:13  0:01:28  0:00:45  851k\n",
      " 66  253M   66  168M    0     0  1937k      0  0:02:14  0:01:28  0:00:46  864k\n",
      " 66  253M   66  169M    0     0  1928k      0  0:02:14  0:01:30  0:00:44  911k\n",
      " 67  253M   67  170M    0     0  1917k      0  0:02:15  0:01:30  0:00:45  916k\n",
      " 67  253M   67  171M    0     0  1908k      0  0:02:16  0:01:32  0:00:44  962k\n",
      " 67  253M   67  172M    0     0  1896k      0  0:02:17  0:01:33  0:00:44  960k\n",
      " 68  253M   68  173M    0     0  1886k      0  0:02:17  0:01:33  0:00:44  969k\n",
      " 68  253M   68  174M    0     0  1875k      0  0:02:18  0:01:35  0:00:43  924k\n",
      " 68  253M   68  174M    0     0  1865k      0  0:02:19  0:01:36  0:00:43  930k\n",
      " 69  253M   69  175M    0     0  1857k      0  0:02:19  0:01:36  0:00:43  919k\n",
      " 69  253M   69  177M    0     0  1851k      0  0:02:20  0:01:38  0:00:42 1006k\n",
      " 70  253M   70  178M    0     0  1844k      0  0:02:20  0:01:39  0:00:41 1060k\n",
      " 70  253M   70  179M    0     0  1833k      0  0:02:21  0:01:39  0:00:42 1032k\n",
      " 70  253M   70  179M    0     0  1821k      0  0:02:22  0:01:41  0:00:41  974k\n",
      " 71  253M   71  180M    0     0  1810k      0  0:02:23  0:01:42  0:00:41  910k\n",
      " 71  253M   71  181M    0     0  1799k      0  0:02:24  0:01:43  0:00:41  798k\n",
      " 71  253M   71  181M    0     0  1787k      0  0:02:25  0:01:44  0:00:41  657k\n",
      " 71  253M   71  182M    0     0  1773k      0  0:02:26  0:01:45  0:00:41  597k\n",
      " 71  253M   71  182M    0     0  1759k      0  0:02:27  0:01:46  0:00:41  550k\n",
      " 72  253M   72  182M    0     0  1750k      0  0:02:28  0:01:46  0:00:42  507k\n",
      " 72  253M   72  183M    0     0  1737k      0  0:02:29  0:01:48  0:00:41  457k\n",
      " 72  253M   72  183M    0     0  1726k      0  0:02:30  0:01:49  0:00:41  468k\n",
      " 72  253M   72  184M    0     0  1716k      0  0:02:31  0:01:50  0:00:41  503k\n",
      " 72  253M   72  185M    0     0  1706k      0  0:02:32  0:01:50  0:00:42  537k\n",
      " 73  253M   73  185M    0     0  1696k      0  0:02:33  0:01:52  0:00:41  543k\n",
      " 73  253M   73  186M    0     0  1686k      0  0:02:34  0:01:52  0:00:42  572k\n",
      " 73  253M   73  186M    0     0  1675k      0  0:02:35  0:01:53  0:00:42  566k\n",
      " 73  253M   73  187M    0     0  1667k      0  0:02:35  0:01:55  0:00:40  577k\n",
      " 73  253M   73  187M    0     0  1657k      0  0:02:36  0:01:55  0:00:41  557k\n",
      " 74  253M   74  188M    0     0  1651k      0  0:02:37  0:01:56  0:00:41  653k\n",
      " 74  253M   74  189M    0     0  1644k      0  0:02:38  0:01:57  0:00:41  698k\n",
      " 74  253M   74  190M    0     0  1636k      0  0:02:38  0:01:59  0:00:39  738k\n",
      " 75  253M   75  190M    0     0  1628k      0  0:02:39  0:01:59  0:00:40  736k\n",
      " 75  253M   75  191M    0     0  1620k      0  0:02:40  0:02:00  0:00:40  764k\n",
      " 75  253M   75  192M    0     0  1614k      0  0:02:40  0:02:01  0:00:39  745k\n",
      " 76  253M   76  193M    0     0  1611k      0  0:02:41  0:02:02  0:00:39  828k\n",
      " 76  253M   76  194M    0     0  1607k      0  0:02:41  0:02:04  0:00:37  926k\n",
      " 77  253M   77  195M    0     0  1605k      0  0:02:41  0:02:04  0:00:37 1046k\n",
      " 77  253M   77  197M    0     0  1604k      0  0:02:42  0:02:05  0:00:37 1213k\n",
      " 78  253M   78  199M    0     0  1605k      0  0:02:41  0:02:07  0:00:34 1377k\n",
      " 79  253M   79  200M    0     0  1607k      0  0:02:41  0:02:07  0:00:34 1520k\n",
      " 79  253M   79  202M    0     0  1608k      0  0:02:41  0:02:08  0:00:33 1632k\n",
      " 80  253M   80  204M    0     0  1609k      0  0:02:41  0:02:10  0:00:31 1713k\n",
      " 81  253M   81  206M    0     0  1610k      0  0:02:41  0:02:10  0:00:31 1771k\n",
      " 81  253M   81  206M    0     0  1605k      0  0:02:41  0:02:11  0:00:30 1609k\n",
      " 82  253M   82  208M    0     0  1606k      0  0:02:41  0:02:12  0:00:29 1574k\n",
      " 82  253M   82  210M    0     0  1606k      0  0:02:41  0:02:14  0:00:27 1558k\n",
      " 83  253M   83  211M    0     0  1602k      0  0:02:42  0:02:15  0:00:27 1432k\n",
      " 83  253M   83  212M    0     0  1598k      0  0:02:42  0:02:16  0:00:26 1270k\n",
      " 83  253M   83  213M    0     0  1592k      0  0:02:43  0:02:17  0:00:26 1246k\n",
      " 84  253M   84  213M    0     0  1587k      0  0:02:43  0:02:18  0:00:25 1074k\n",
      " 84  253M   84  215M    0     0  1587k      0  0:02:43  0:02:18  0:00:25 1058k\n",
      " 85  253M   85  216M    0     0  1583k      0  0:02:44  0:02:19  0:00:25 1048k\n",
      " 85  253M   85  217M    0     0  1578k      0  0:02:44  0:02:21  0:00:23 1058k\n",
      " 86  253M   86  218M    0     0  1576k      0  0:02:44  0:02:22  0:00:22 1143k\n",
      " 86  253M   86  219M    0     0  1574k      0  0:02:45  0:02:23  0:00:22 1220k\n",
      " 87  253M   87  221M    0     0  1571k      0  0:02:45  0:02:24  0:00:21 1132k\n",
      " 87  253M   87  222M    0     0  1568k      0  0:02:45  0:02:25  0:00:20 1152k\n",
      " 87  253M   87  223M    0     0  1565k      0  0:02:45  0:02:26  0:00:19 1199k\n",
      " 88  253M   88  224M    0     0  1566k      0  0:02:45  0:02:26  0:00:19 1277k\n",
      " 89  253M   89  226M    0     0  1567k      0  0:02:45  0:02:28  0:00:17 1376k\n",
      " 90  253M   90  228M    0     0  1573k      0  0:02:45  0:02:28  0:00:17 1630k\n",
      " 91  253M   91  232M    0     0  1584k      0  0:02:43  0:02:30  0:00:13 2044k\n",
      " 93  253M   93  236M    0     0  1603k      0  0:02:42  0:02:30  0:00:12 2706k\n",
      " 94  253M   94  238M    0     0  1609k      0  0:02:41  0:02:31  0:00:10 2871k\n",
      " 94  253M   94  240M    0     0  1611k      0  0:02:41  0:02:33  0:00:08 2892k\n",
      " 95  253M   95  242M    0     0  1609k      0  0:02:41  0:02:34  0:00:07 2679k\n",
      " 95  253M   95  243M    0     0  1606k      0  0:02:41  0:02:34  0:00:07 2258k\n",
      " 95  253M   95  243M    0     0  1598k      0  0:02:42  0:02:36  0:00:06 1435k\n",
      " 96  253M   96  243M    0     0  1589k      0  0:02:43  0:02:37  0:00:06 1005k\n",
      " 96  253M   96  244M    0     0  1582k      0  0:02:44  0:02:38  0:00:06  668k\n",
      " 96  253M   96  244M    0     0  1575k      0  0:02:44  0:02:38  0:00:06  529k\n",
      " 96  253M   96  245M    0     0  1569k      0  0:02:45  0:02:39  0:00:06  431k\n",
      " 96  253M   96  245M    0     0  1563k      0  0:02:46  0:02:40  0:00:06  479k\n",
      " 97  253M   97  246M    0     0  1557k      0  0:02:46  0:02:42  0:00:04  536k\n",
      " 97  253M   97  247M    0     0  1551k      0  0:02:47  0:02:43  0:00:04  601k\n",
      " 97  253M   97  247M    0     0  1545k      0  0:02:48  0:02:44  0:00:04  580k\n",
      " 97  253M   97  248M    0     0  1540k      0  0:02:48  0:02:44  0:00:04  585k\n",
      " 98  253M   98  248M    0     0  1535k      0  0:02:49  0:02:45  0:00:04  617k\n",
      " 98  253M   98  250M    0     0  1533k      0  0:02:49  0:02:46  0:00:03  756k\n",
      " 98  253M   98  251M    0     0  1530k      0  0:02:49  0:02:48  0:00:01  848k\n",
      " 99  253M   99  251M    0     0  1526k      0  0:02:50  0:02:48  0:00:02  892k\n",
      " 99  253M   99  252M    0     0  1522k      0  0:02:50  0:02:49  0:00:01  931k\n",
      " 99  253M   99  253M    0     0  1518k      0  0:02:51  0:02:50  0:00:01  963k\n",
      "100  253M  100  253M    0     0  1517k      0  0:02:51  0:02:51 --:--:--  877k\n"
     ]
    }
   ],
   "source": [
    "! curl --remote-name-all https://lindat.mff.cuni.cz/repository/xmlui/bitstream/handle/11858/00-097C-0000-0023-65A9-5{/urdu-tagged-corpus.gz}"
   ]
  },
  {
   "cell_type": "code",
   "execution_count": null,
   "metadata": {
    "execution": {
     "iopub.execute_input": "2025-06-17T20:43:32.451876Z",
     "iopub.status.busy": "2025-06-17T20:43:32.451633Z",
     "iopub.status.idle": "2025-06-17T20:43:39.476932Z",
     "shell.execute_reply": "2025-06-17T20:43:39.475897Z",
     "shell.execute_reply.started": "2025-06-17T20:43:32.451854Z"
    },
    "trusted": true
   },
   "outputs": [],
   "source": [
    "! yes y | gunzip urdu-tagged-corpus.gz"
   ]
  },
  {
   "cell_type": "code",
   "execution_count": 30,
   "metadata": {
    "execution": {
     "iopub.execute_input": "2025-06-17T21:10:16.110564Z",
     "iopub.status.busy": "2025-06-17T21:10:16.109647Z",
     "iopub.status.idle": "2025-06-17T21:10:16.116867Z",
     "shell.execute_reply": "2025-06-17T21:10:16.116112Z",
     "shell.execute_reply.started": "2025-06-17T21:10:16.110534Z"
    },
    "id": "7OEhbRsslKVd",
    "trusted": true
   },
   "outputs": [],
   "source": [
    "\n",
    "\n",
    "def parse_tag_file(filepath,max_lines=1000000, translate=True,output_file=\"translated.txt\"):\n",
    "    sentences = []\n",
    "    translated_sentences = []\n",
    "    with open(filepath, 'r', encoding='utf-8') as file:\n",
    "        for line in tqdm(file,total=max_lines):\n",
    "            line = line.strip()\n",
    "            if not line:\n",
    "                continue  # skip empty lines\n",
    "            tokens = []\n",
    "            translated_sent = \"\"\n",
    "            for item in line.split():\n",
    "                if '|' in item:\n",
    "                    word, tag = item.rsplit('|', 1)\n",
    "                    tokens.append((word, tag))\n",
    "                    if translate:\n",
    "                      # t_word = pipe(word,src_lang=\"urd_Arab\",tgt_lang=\"eng_Latn\")[0].get('translation_text')\n",
    "                        translated_sent = translated_sent + f\" {word}\"\n",
    "            if tokens:\n",
    "                sentences.append(tokens)\n",
    "                if translate:\n",
    "                  # print(translated_sent)\n",
    "                    translated_sentences.append(\n",
    "                      pipe(\n",
    "                          translated_sent,src_lang=\"urd_Arab\",tgt_lang=\"eng_Latn\"\n",
    "                      )[0].get('translation_text') +\"  :: \"+ translated_sent\n",
    "                  )\n",
    "            \n",
    "            if len(sentences)==max_lines:\n",
    "                break\n",
    "          \n",
    "            with open(output_file, \"a\", encoding=\"utf-8\") as f_out:\n",
    "                f_out.write(translated_sentences[-1] + \"\\n\")\n",
    "        \n",
    "    return sentences\n"
   ]
  },
  {
   "cell_type": "code",
   "execution_count": null,
   "metadata": {
    "id": "03bNdxSGlcTB",
    "outputId": "b9db6f21-c38a-438a-c9f8-b394235ca34a",
    "trusted": true
   },
   "outputs": [],
   "source": [
    "# filepath = \"urmono.tag\" ## in windows\n",
    "filepath = 'urdu-tagged-corpus' ## in linux\n",
    "\n",
    "\n",
    "sentences = parse_tag_file(filepath, \n",
    "                           max_lines=10000000, \n",
    "                           translate=True\n",
    "                          )\n",
    "\n",
    "# Example\n",
    "print(f\"Total sentences: {len(sentences)}\")\n",
    "print(\"First sentence:\", sentences[0])\n"
   ]
  },
  {
   "cell_type": "markdown",
   "metadata": {
    "id": "YZLI16mLc-6P"
   },
   "source": [
    "# Split dataset"
   ]
  },
  {
   "cell_type": "code",
   "execution_count": null,
   "metadata": {
    "id": "WpAqtHlOdAhM"
   },
   "outputs": [],
   "source": [
    "import random\n",
    "\n",
    "random.seed(42)\n",
    "random.shuffle(sentences)\n",
    "split_idx = int(0.8 * len(sentences))\n",
    "train_sents = sentences[:split_idx]\n",
    "test_sents = sentences[split_idx:]\n"
   ]
  },
  {
   "cell_type": "markdown",
   "metadata": {
    "id": "XdM5XEaIdDrw"
   },
   "source": [
    "# HMM model"
   ]
  },
  {
   "cell_type": "code",
   "execution_count": 6,
   "metadata": {
    "id": "_wNkbw9KdIL0"
   },
   "outputs": [],
   "source": [
    "import nltk\n",
    "from nltk.tag.hmm import HiddenMarkovModelTrainer\n",
    "import dill"
   ]
  },
  {
   "cell_type": "markdown",
   "metadata": {},
   "source": [
    "## train"
   ]
  },
  {
   "cell_type": "code",
   "execution_count": null,
   "metadata": {
    "id": "6EK0e36ndBCX"
   },
   "outputs": [],
   "source": [
    "\n",
    "\n",
    "trainer = HiddenMarkovModelTrainer()\n",
    "tagger = trainer.train_supervised(train_sents)\n",
    "\n",
    "# Evaluate\n",
    "accuracy = tagger.accuracy(test_sents)\n",
    "print(f\"Accuracy: {accuracy:.2%}\")\n"
   ]
  },
  {
   "cell_type": "code",
   "execution_count": null,
   "metadata": {
    "trusted": true
   },
   "outputs": [],
   "source": [
    "\n",
    "\n",
    "with open(\"urdu_hmm_tagger.pkl\", \"wb\") as f:\n",
    "    dill.dump(tagger, f)\n"
   ]
  },
  {
   "cell_type": "markdown",
   "metadata": {},
   "source": [
    "## load saved model"
   ]
  },
  {
   "cell_type": "code",
   "execution_count": 7,
   "metadata": {},
   "outputs": [],
   "source": [
    "\n",
    "with open(\"urdu_hmm_tagger.pkl\", \"rb\") as f:\n",
    "    tagger = dill.load(f)\n",
    "\n",
    "    "
   ]
  },
  {
   "cell_type": "markdown",
   "metadata": {
    "id": "qvpl-h5ydW2N"
   },
   "source": [
    "# Inference"
   ]
  },
  {
   "cell_type": "code",
   "execution_count": 8,
   "metadata": {
    "id": "LoVQGTBhdMGf"
   },
   "outputs": [
    {
     "name": "stdout",
     "output_type": "stream",
     "text": [
      "Tagged: [('آج', 'NN'), ('موسم', 'NN'), ('اچھا', 'ADJ'), ('ہے', 'VB')]\n"
     ]
    }
   ],
   "source": [
    "urdu_sentence = [\"آج\", \"موسم\", \"اچھا\", \"ہے\"]\n",
    "tagged = tagger.tag(urdu_sentence)\n",
    "print(\"Tagged:\", tagged)\n"
   ]
  }
 ],
 "metadata": {
  "colab": {
   "provenance": []
  },
  "kaggle": {
   "accelerator": "nvidiaTeslaT4",
   "dataSources": [],
   "dockerImageVersionId": 31040,
   "isGpuEnabled": true,
   "isInternetEnabled": true,
   "language": "python",
   "sourceType": "notebook"
  },
  "kernelspec": {
   "display_name": "lllm",
   "language": "python",
   "name": "python3"
  },
  "language_info": {
   "codemirror_mode": {
    "name": "ipython",
    "version": 3
   },
   "file_extension": ".py",
   "mimetype": "text/x-python",
   "name": "python",
   "nbconvert_exporter": "python",
   "pygments_lexer": "ipython3",
   "version": "3.11.11"
  }
 },
 "nbformat": 4,
 "nbformat_minor": 4
}
